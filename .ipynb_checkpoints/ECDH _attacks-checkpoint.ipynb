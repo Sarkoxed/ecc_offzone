{
 "cells": [
  {
   "cell_type": "markdown",
   "metadata": {},
   "source": [
    "# Elliptic Curve Diffie-Hellman\n",
    "\n",
    "Протокол для обмена общим секретом.\n",
    "\n",
    "Сетап:\n",
    "- $E(F_p)$\n",
    "- $G \\in E(F_p)$\n",
    "\n",
    "Алиса и боб оба генерируют по случайному секретному числу:\n",
    "\n",
    "$a, b \\in [1, ord(G)-1]$\n",
    "\n",
    "Алиса отсылает Бобу $G_a = a * G$ \n",
    "\n",
    "Боб отсылает Алисе $G_b = b * G$\n",
    "\n",
    "\\begin{rcases}\n",
    "   a * G_b &\\text{Алиса }  \\\\\n",
    "   b * G_a &\\text{Боб } \n",
    "\\end{rcases} => $(a * b) * G = (b * a) * G = Sh$"
   ]
  },
  {
   "cell_type": "code",
   "execution_count": 11,
   "metadata": {},
   "outputs": [],
   "source": [
    "import hashlib \n",
    "\n",
    "class Part:\n",
    "    def __init__(self, E, G):\n",
    "        self.private = randint(1, G.order()-1)\n",
    "        self.E = E\n",
    "        self.G = G\n",
    "\n",
    "    def compute_public(self):\n",
    "        return self.private * G\n",
    "\n",
    "    def compute_shared(self, G_b):\n",
    "        self.shared = self.private * G_b\n",
    "        return self.shared\n",
    "\n",
    "    def derive_key(self):\n",
    "        self.key = hashlib.blake2b(str(self.shared).encode(), digest_size=16).digest()\n",
    "\n",
    "    def encrypt_message(self, m: bytes):\n",
    "        return bytes([x^^y for x, y in zip(m, self.key * ((len(m) + 15) // 16))])\n",
    "\n",
    "    def decrypt_message(self, m: bytes):\n",
    "        return self.encrypt_message(m).decode()\n",
    "        \n",
    "        \n",
    "p = random_prime(2**255)\n",
    "a = randint(0, p-1)\n",
    "b = randint(0, p-1)\n",
    "E = EllipticCurve(GF(p), [a, b])\n",
    "G = E.random_element()\n",
    "\n",
    "A = Part(E, G)\n",
    "B = Part(E, G)\n",
    "\n",
    "A_pub = A.compute_public()\n",
    "B_pub = B.compute_public()\n",
    "\n",
    "Shared_A = A.compute_shared(B_pub)\n",
    "Shared_B = B.compute_shared(A_pub)\n",
    "assert Shared_A == Shared_B"
   ]
  },
  {
   "cell_type": "markdown",
   "metadata": {},
   "source": [
    "# Man in the middle\n",
    "\n"
   ]
  },
  {
   "cell_type": "code",
   "execution_count": 13,
   "metadata": {},
   "outputs": [
    {
     "name": "stdout",
     "output_type": "stream",
     "text": [
      "Send me Hello together with our secret code\n"
     ]
    }
   ],
   "source": [
    "class C:\n",
    "    def __init__(self, E, G):\n",
    "        pass\n",
    "    ...\n",
    "\n",
    "A = Part(E, G)\n",
    "B = Part(E, G)\n",
    "\n",
    "A_pub = A.compute_public()\n",
    "B_pub = B.compute_public()\n",
    "\n",
    "EveA = Part(E, G)\n",
    "EveB = Part(E, G)\n",
    "\n",
    "E_a_pub = EveA.compute_public() # -> alice\n",
    "E_b_pub = EveB.compute_public() # -> bob\n",
    "\n",
    "# do smth wiith A and B\n",
    "A.compute_shared(E_a_pub)\n",
    "B.compute_shared(E_b_pub)\n",
    "EveA.compute_shared(A_pub)\n",
    "EveB.compute_shared(B_pub)\n",
    "\n",
    "\n",
    "\n",
    "A.derive_key()\n",
    "ct = A.encrypt_message(b\"Send me Hello together with our secret code\")\n",
    "\n",
    "EveA.derive_key()\n",
    "ct_a = EveA.decrypt_message(ct)\n",
    "\n",
    "EveB.derive_key()\n",
    "ct_b = EveB.encrypt_message(ct_a.encode())\n",
    "\n",
    "B.derive_key()\n",
    "\n",
    "m = B.decrypt_message(ct_b)\n",
    "print(m)\n",
    "\n",
    "# B.derive_key()\n",
    "# m = B.decrypt_message(ct)\n",
    "# ct = B.encrypt_message(b\"Hello, my lil potato\")\n",
    "# # do smth here\n",
    "\n",
    "# m = A.decrypt_message(ct)\n",
    "# assert 'Hello' in m and 'lil potato' in m"
   ]
  },
  {
   "cell_type": "markdown",
   "metadata": {},
   "source": [
    "# Гладкий порядок кривой и элемента\n",
    "\n",
    "Допустим у нас имеется точка кривой с порядком $ord(G) = p * q$. Что произойдёт, если умножить эту точку на $p$?"
   ]
  },
  {
   "cell_type": "code",
   "execution_count": 17,
   "metadata": {},
   "outputs": [
    {
     "name": "stdout",
     "output_type": "stream",
     "text": [
      "405928799\n"
     ]
    }
   ],
   "source": [
    "q = 21888242871839275222246405745257275088696311157297823662689037894645226208583\n",
    "E = EllipticCurve(GF(q), [0, 1])\n",
    "P = E.lift_x(11287088411198481362140708319687060898747531990151311319674794660705219235317)\n",
    "\n",
    "R = 79287328374952431757 * P\n",
    "print(factor(R.order()))"
   ]
  },
  {
   "cell_type": "code",
   "execution_count": 23,
   "metadata": {},
   "outputs": [
    {
     "name": "stdout",
     "output_type": "stream",
     "text": [
      "2 * 3^2 * 13 * 29 * 37 * 613 * 983 * 11003 * 346501 * 6248149 * 405928799\n"
     ]
    }
   ],
   "source": [
    "P = E.random_point()\n",
    "n = 79287328374952431757 * randint(0, 27797133921898830561267529521791838546)\n",
    "Q = n * P\n",
    "print(factor(Q.order()))"
   ]
  },
  {
   "cell_type": "markdown",
   "metadata": {},
   "source": [
    "# Небольшое введение в CRT\n",
    "\n",
    "Вы имеете систему уравнений:\n",
    "\n",
    "$x \\equiv a_1 \\pmod{p_1^{e_1}}$\n",
    "\n",
    "$x \\equiv a_2 \\pmod{p_2^{e_2}}$\n",
    "\n",
    "...\n",
    "\n",
    "$x \\equiv a_n \\pmod{p_n^{e_n}}$\n",
    "\n",
    "(Есть и более общий случай для непростых-степеней модулей но об этом не сегодня)\n",
    "\n",
    "Тогда по Китайской Теореме об Остатках существует единственное решение этой системы:\n",
    "\n",
    "$x = a^{*} \\pmod{p_1^{e_1} * ... * p_n^{e_n}}$\n",
    "\n",
    "В саге это можно посчитать: $x = crt([a_1, a_2, ..., a_n], [p_1^{e_1}, p_2^{e_2}, ..., p_n^{e_n}]$"
   ]
  },
  {
   "cell_type": "code",
   "execution_count": 30,
   "metadata": {},
   "outputs": [
    {
     "name": "stdout",
     "output_type": "stream",
     "text": [
      "[(2, 1), (13, 1), (19, 1), (29, 1), (37, 1), (613, 1), (983, 1), (11003, 1), (346501, 1), (6248149, 1), (405928799, 1)]\n"
     ]
    }
   ],
   "source": [
    "P = E.lift_x(20784373959434472562271958623875355254756888620317246720769884886017356077580)\n",
    "Q = E.lift_x(1684246270980120632629887352423092941348259671519960650766040438397726636464)\n",
    "\n",
    "R = P * 79287328374952431757\n",
    "\n",
    "R1 = (R.order() // 405928799) * R\n",
    "Q1 = (Q.order() // 405928799) * Q\n",
    "\n",
    "f = list(factor(R.order()))\n",
    "print(f)\n",
    "\n",
    "rems, mods = [], []\n",
    "for a, b in f:\n",
    "    sc = R.order() // (a^b)\n",
    "    R1 = sc * R\n",
    "    Q1 = sc * Q\n",
    "    mods.append(a^b)\n",
    "    rems.append(discrete_log(Q, R, operation=\"+\"))\n",
    "\n",
    "k = crt(rems, mods)\n",
    "k *= 79287328374952431757\n",
    "assert k * P == Q"
   ]
  },
  {
   "cell_type": "code",
   "execution_count": 31,
   "metadata": {},
   "outputs": [
    {
     "data": {
      "text/plain": [
       "10615527290621255365033241747840824475962366145829974452"
      ]
     },
     "execution_count": 31,
     "metadata": {},
     "output_type": "execute_result"
    }
   ],
   "source": [
    "k"
   ]
  },
  {
   "cell_type": "markdown",
   "metadata": {},
   "source": [
    "# Aномальные кривые\n",
    "\n",
    "Из предыдущего пункта стало ясно, что лучше использовать либо точки с большим простым порядком, либо вообще использовать кривые с простым порядком, чтобы у всех точек был один и тот же большой простой порядок. \n",
    "\n",
    "Аномальными называют такие кривые у которых $|E(F_p)| = p$.\n",
    "\n",
    "Для аномальных кривых существует отображение: $E(F_p) \\to F_p: \\phi(P)$, причем это отображение обладает очень важным свойством: $\\phi(n * P) = n * \\phi(P)$ - довольно печально выглядит не правда ли?\n",
    "\n",
    "То есть от сложной проблемы мы перешли к обычному сложению.\n",
    "\n",
    "Отображение считается следующим образом:\n",
    "\n",
    "Введем пару $[P, a], [Q, b]$, тогда $[P, a] + [Q, b] = [P + Q, a + b + slope(P, Q)]$ \n",
    "\n",
    "Где\n",
    "- $Q = -P, P = O$ или $Q = O \\implies slope = 0$\n",
    "- $slope = \\lambda$\n",
    "\n",
    "Тогда если мы посчитаем по данному правилу $p * [P, 0] = [P, 0] + [P, 0] + ... + [P, 0] = [O, \\alpha]$, $\\phi(P) = \\alpha$"
   ]
  },
  {
   "cell_type": "code",
   "execution_count": 14,
   "metadata": {},
   "outputs": [],
   "source": [
    "def double(P, alpha):\n",
    "    pass\n",
    "\n",
    "def add(P, alpha, Q, beta):\n",
    "    pass\n",
    "\n",
    "def mul(P, n):\n",
    "    pass "
   ]
  },
  {
   "cell_type": "code",
   "execution_count": 16,
   "metadata": {},
   "outputs": [],
   "source": [
    "p = 0xA15C4FB663A578D8B2496D3151A946119EE42695E18E13E90600192B1D0ABDBB6F787F90C8D102FF88E284DD4526F5F6B6C980BF88F1D0490714B67E8A2A2B77\n",
    "a = 0x5E009506FCC7EFF573BC960D88638FE25E76A9B6C7CAEEA072A27DCD1FA46ABB15B7B6210CF90CABA982893EE2779669BAC06E267013486B22FF3E24ABAE2D42\n",
    "b = 0x2CE7D1CA4493B0977F088F6D30D9241F8048FDEA112CC385B793BCE953998CAAE680864A7D3AA437EA3FFD1441CA3FB352B0B710BB3F053E980E503BE9A7FECE\n",
    "\n",
    "E = EllipticCurve(GF(p), [a, b])\n",
    "\n",
    "P = E.random_element()\n",
    "Q = randint(0, p) * P"
   ]
  },
  {
   "cell_type": "code",
   "execution_count": null,
   "metadata": {},
   "outputs": [],
   "source": [
    "# your code here"
   ]
  }
 ],
 "metadata": {
  "kernelspec": {
   "display_name": "SageMath 9.0",
   "language": "sage",
   "name": "sagemath"
  },
  "language_info": {
   "codemirror_mode": {
    "name": "ipython",
    "version": 3
   },
   "file_extension": ".py",
   "mimetype": "text/x-python",
   "name": "python",
   "nbconvert_exporter": "python",
   "pygments_lexer": "ipython3",
   "version": "3.7.3"
  }
 },
 "nbformat": 4,
 "nbformat_minor": 5
}
